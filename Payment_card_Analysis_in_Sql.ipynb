{
 "cells": [
  {
   "cell_type": "markdown",
   "metadata": {},
   "source": [
    "<h1 style=\"font-family: 'Poppins', sans-serif; font-weight: 700; color: #1c1c1c; background: white; padding: 15px; border-radius: 10px; text-align: center; box-shadow: 0 4px 8px rgba(0, 0, 0, 0.5); letter-spacing: 1px; text-transform: capitalize; font-size: 1.5rem;\">\n",
    "  Project Title: <span style=\"color: #333333;\">Payment Card Analysis </span>\n",
    "</h1>"
   ]
  },
  {
   "cell_type": "markdown",
   "metadata": {},
   "source": [
    "<h1 style=\"font-family: 'Poppins', sans-serif; font-weight: 700; color: #1c1c1c; background: white; padding: 20px; border-radius: 15px; text-align: center; box-shadow: 0 4px 8px rgba(0, 0, 0, 0.1); letter-spacing: 1px; text-transform: capitalize; font-size: 1.5rem;\">\n",
    "  <span style=\"color: #1c1c1c; font-size: 2rem;\">👨‍💻</span> \n",
    "  Author: <span style=\"color: #333333;\">Maaz Umar</span><br>\n",
    "  <a href=\"https://github.com/Maaz-Umar-00\" style=\"color: #333333; text-decoration: none; font-size: 0.9rem;\">GitHub</a> |\n",
    "  <a href=\"https://www.linkedin.com/in/maaz-umar-178090307/\" style=\"color: #333333; text-decoration: none; font-size: 0.9rem;\">LinkedIn</a> |\n",
    "  <a href=\"mailto:maazumar2005@email.com\" style=\"color: #555555; text-decoration: none; font-size: 0.9rem;\">Email</a>\n",
    "\n",
    "</h1>"
   ]
  },
  {
   "cell_type": "markdown",
   "metadata": {},
   "source": [
    "<img src=\"./mitron_bank_image.webp\" alt=\"Mitron Bank\" style=\"width: 600px; display: block; margin: 0 auto;\" />"
   ]
  },
  {
   "cell_type": "markdown",
   "metadata": {},
   "source": [
    "\n",
    "<h1 style=\"font-family: 'Poppins', sans-serif; font-weight: 700; color: #1c1c1c; background: white; padding: 15px; border-radius: 10px; text-align: center; box-shadow: 0 4px 8px rgba(0, 0, 0, 0.5); letter-spacing: 1px; text-transform: capitalize; font-size: 1.5rem;\">\n",
    "<span style=\"color: #333333;\">Meta-Data(About Dataset)</span>\n",
    "</h1>\n",
    "\n",
    "\n",
    "- This dataset contains demographic details and spending data of customers for Mitron Bank. The data is divided into two main tables: dim_customers and fact_spends.\n",
    "<h1 style=\"font-family: 'Poppins', sans-serif; font-weight: 700; color: #1c1c1c; background: white; padding: 12px; border-radius: 10px; text-align: left; box-shadow: 0 4px 8px rgba(0, 0, 0, 0.5); letter-spacing: 1px; text-transform: capitalize; font-size: 1.2rem;\">\n",
    "<span style=\"color: #333333;\">column Description for dim_customers:</span>\n",
    "</h1>\n",
    "\n",
    "- `customer_id:` This column represents the Unique ID assigned to each customer.\n",
    "- `gender:` This column represents the gender of the customer. (Male, Female)\n",
    "- `age_group`: This column categorizes the customer into different age groups. (21-24, 25-34, 35-45, 45+)\n",
    "- `marital_status:` This column indicates the marital status of the customer (single, married).\n",
    "- `city:` This column represents the city of residence for the customer. (Mumbai, Delhi-NCR, Chennai, Hyderabad, Bengaluru)\n",
    "- `occupation:` This column denotes the occupation or profession of the customer. (Salaried IT Employees, Salaried Other Employees, Business Owners, Freelancers, Government Employees)\n",
    "- `average_income:` This column indicates the monthly average income of the customer, in INR currency.\n",
    "\n",
    "\n",
    "*******************************************\n",
    "<h1 style=\"font-family: 'Poppins', sans-serif; font-weight: 700; color: #1c1c1c; background: white; padding: 12px; border-radius: 10px; text-align: left; box-shadow: 0 4px 8px rgba(0, 0, 0, 0.5); letter-spacing: 1px; text-transform: capitalize; font-size: 1.2rem;\">\n",
    "<span style=\"color: #333333;\">column Description for fac_spends:</span>\n",
    "</h1>\n",
    "\n",
    "- `customer_id:` This column represents the Unique ID of each customer, linking to the dim_customer table.\n",
    "- `month:` This column indicates the month in which the spending was recorded. (May, June, July, August, September, October)\n",
    "- `category:` This column describes the category of spending (Entertainment, Apparel, Electronics, etc).\n",
    "- `payment_type:` This column specifies the type of payment used by the customer (Debit Card, Credit Card, UPI, Net Banking).\n",
    "- `spends:` This column shows the total amount spent by the customer in the specified month, category and payment_type.\n",
    "\n",
    "<h1 style=\"font-family: 'Poppins', sans-serif; font-weight: 700; color: #1c1c1c; background: white; padding: 12px; border-radius: 10px; text-align: left; box-shadow: 0 4px 8px rgba(0, 0, 0, 0.5); letter-spacing: 1px; text-transform: capitalize; font-size: 1.2rem;\">\n",
    "<span style=\"color: #333333;\">Project Aim:</span>\n",
    "</h1> \n",
    "\n",
    "- The goal of this analysis is to gain insights into customer spending patterns, including which customer segments spend the most, what categories they spend on, and which payment methods are the most popular. This information will help in introducing new payment cards.`\n",
    "\n",
    "<h1 style=\"font-family: 'Poppins', sans-serif; font-weight: 700; color: #1c1c1c; background: white; padding: 12px; border-radius: 10px; text-align: left; box-shadow: 0 4px 8px rgba(0, 0, 0, 0.5); letter-spacing: 1px; text-transform: capitalize; font-size: 1.2rem;\">\n",
    "<span style=\"color: #333333;\">Key Findings:</span>\n",
    "</h1> \n",
    "\n",
    "1. The `35-45 age group` has the highest average spending  per age groups.\n",
    "2. People spend the most on` utility bills`, suggesting that the bank could launch new payment cards with tailored rewards for utility payments, `enhancing customer engagement and card adoption.`\n",
    "3. People spend the most in `Mumbai` and the least in `Hyderabad, `highlighting the need for tailored marketing strategies to maximize engagement in both markets.\n",
    "4. `Young people` spend the most on `entertainment,` indicating an opportunity for the bank to create payment cards with rewards or offers specifically tailored to this demographic's entertainment spending habits.\n",
    "5. `IT employees` use the most variety of payment cards, presenting an opportunity for the bank to offer specialized cards that cater to their diverse spending habits, enhancing customer loyalty.\n",
    "6.` Business owners` have the` highest average income` but are not using payment cards. This presents an opportunity for the bank to develop targeted offers or exclusive deals tailored to` business owners`, such as rewards for business-related expenses, to encourage `card usage`.\n",
    "\n",
    "\n",
    "\n",
    "[Click here for the Tableau Dashboard](https://public.tableau.com/app/profile/maaz.umar/viz/MitronBankAnalysis_17266593076560/05_credit_card_dashboard)\n",
    "\n",
    "\n",
    "\n",
    "\n",
    "\n",
    "\n"
   ]
  },
  {
   "cell_type": "markdown",
   "metadata": {},
   "source": [
    "<h1 style=\"font-family: 'Poppins', sans-serif; font-weight: 700; color: #1c1c1c; background: white; padding: 15px; border-radius: 10px; text-align: left; box-shadow: 0 4px 8px rgba(0, 0, 0, 0.5); letter-spacing: 1px; text-transform: capitalize; font-size: 1.5rem;\">\n",
    "<span style=\"color: #333333;\">1.Importing Libraries:</span>\n",
    "</h1> "
   ]
  },
  {
   "cell_type": "code",
   "execution_count": 1,
   "metadata": {},
   "outputs": [],
   "source": [
    "# importing libraries\n",
    "import pandas as pd \n",
    "import numpy as np \n",
    "import matplotlib.pyplot as plt\n",
    "import seaborn as sns\n",
    "import mysql\n",
    "import mysql.connector\n",
    "import os \n",
    "\n"
   ]
  },
  {
   "cell_type": "markdown",
   "metadata": {},
   "source": [
    "<h1 style=\"font-family: 'Poppins', sans-serif; font-weight: 700; color: #1c1c1c; background: white; padding: 12px; border-radius: 10px; text-align: left; box-shadow: 0 4px 8px rgba(0, 0, 0, 0.5); letter-spacing: 1px; text-transform: capitalize; font-size: 1.2rem;\">\n",
    "<span style=\"color: #333333;\">1.1 Connecting to the database</span>\n",
    "</h1> \n",
    "\n",
    "### "
   ]
  },
  {
   "cell_type": "code",
   "execution_count": 2,
   "metadata": {},
   "outputs": [],
   "source": [
    "df=mysql.connector.connect(host='localhost',\n",
    "                           username='root',\n",
    "                           password='03175231926m',\n",
    "                           database='mitron_bank')\n",
    "cursor=df.cursor()\n"
   ]
  },
  {
   "cell_type": "markdown",
   "metadata": {},
   "source": [
    "<h1 style=\"font-family: 'Poppins', sans-serif; font-weight: 700; color: #1c1c1c; background: white; padding: 12px; border-radius: 10px; text-align: left; box-shadow: 0 4px 8px rgba(0, 0, 0, 0.5); letter-spacing: 1px; text-transform: capitalize; font-size: 1.2rem;\">\n",
    "<span style=\"color: #333333;\">1.2 Taking Basic Overveiw of the Facts Table</span>\n",
    "</h1>"
   ]
  },
  {
   "cell_type": "code",
   "execution_count": 4,
   "metadata": {},
   "outputs": [
    {
     "name": "stdout",
     "output_type": "stream",
     "text": [
      "Columns Names Are ['customer_id', 'month', 'category', 'payment_type', 'spend']\n",
      "('ATQCUS1371', 'July', 'Health & Wellness', 'Credit Card', 1114)\n",
      "('ATQCUS0368', 'October', 'Groceries', 'Credit Card', 1466)\n",
      "('ATQCUS0595', 'May', 'Health & Wellness', 'Credit Card', 387)\n",
      "('ATQCUS0667', 'October', 'Electronics', 'Credit Card', 1137)\n",
      "('ATQCUS3477', 'September', 'Bills', 'UPI', 2102)\n"
     ]
    }
   ],
   "source": [
    "# Executing the query\n",
    "query = \"\"\" SELECT * FROM fact_spends; \"\"\"\n",
    "cursor.execute(query)\n",
    "\n",
    "# Fetching all results\n",
    "results = cursor.fetchall()\n",
    "\n",
    "# Geting column names from cursor.description\n",
    "column_names = [desc[0] for desc in cursor.description]\n",
    "\n",
    "print(\"Columns Names Are\",column_names)\n",
    "\n",
    "# printing the 5 rows \n",
    "for row in results[:5]:\n",
    "    print(row)"
   ]
  },
  {
   "cell_type": "markdown",
   "metadata": {},
   "source": [
    "<h1 style=\"font-family: 'Poppins', sans-serif; font-weight: 700; color: #1c1c1c; background: white; padding: 12px; border-radius: 10px; text-align: left; box-shadow: 0 4px 8px rgba(0, 0, 0, 0.5); letter-spacing: 1px; text-transform: capitalize; font-size: 1.2rem;\">\n",
    "<span style=\"color: #333333;\">1.3 Checking Total Number of Columns and Rows</span>\n",
    "</h1> \n",
    "\n",
    "### \n"
   ]
  },
  {
   "cell_type": "code",
   "execution_count": 5,
   "metadata": {},
   "outputs": [
    {
     "name": "stdout",
     "output_type": "stream",
     "text": [
      "Total number of rows: 864000\n",
      "Total number of columns: 5\n"
     ]
    }
   ],
   "source": [
    "query_rows = \"\"\"\n",
    "SELECT COUNT(*) AS total_rows\n",
    "FROM fact_spends;\n",
    "\"\"\"\n",
    "cursor.execute(query_rows)\n",
    "row_count = cursor.fetchone()[0]  # Fetching the result\n",
    "\n",
    "# Print the results\n",
    "print(\"Total number of rows:\", row_count)\n",
    "print(\"Total number of columns: 5\")"
   ]
  },
  {
   "cell_type": "markdown",
   "metadata": {},
   "source": [
    "<h1 style=\"font-family: 'Poppins', sans-serif; font-weight: 700; color: #1c1c1c; background: white; padding: 12px; border-radius: 10px; text-align: left; box-shadow: 0 4px 8px rgba(0, 0, 0, 0.5); letter-spacing: 1px; text-transform: capitalize; font-size: 1.2rem;\">\n",
    "<span style=\"color: #333333;\">1.4 Taking Basic Overveiw of the Dim_customers Table</span>\n",
    "</h1>"
   ]
  },
  {
   "cell_type": "code",
   "execution_count": 6,
   "metadata": {},
   "outputs": [
    {
     "name": "stdout",
     "output_type": "stream",
     "text": [
      "Columns Names Are ['customer_id', 'age_group', 'city', 'occupation', 'gender', 'marital_status', 'avg_income']\n",
      "('ATQCUS1825', '45+', 'Bengaluru', 'Salaried IT Employees', 'Male', 'Married', 73523)\n",
      "('ATQCUS0809', '25-34', 'Hyderabad', 'Salaried Other Employees', 'Male', 'Married', 39922)\n",
      "('ATQCUS0663', '25-34', 'Chennai', 'Salaried Other Employees', 'Male', 'Married', 37702)\n",
      "('ATQCUS0452', '25-34', 'Delhi NCR', 'Government Employees', 'Male', 'Married', 54090)\n",
      "('ATQCUS3350', '21-24', 'Bengaluru', 'Freelancers', 'Male', 'Single', 28376)\n",
      "('ATQCUS3256', '21-24', 'Delhi NCR', 'Salaried IT Employees', 'Male', 'Single', 46586)\n",
      "('ATQCUS3608', '25-34', 'Chennai', 'Freelancers', 'Male', 'Single', 34966)\n",
      "('ATQCUS0611', '25-34', 'Chennai', 'Salaried IT Employees', 'Male', 'Married', 59078)\n",
      "('ATQCUS3856', '21-24', 'Bengaluru', 'Salaried Other Employees', 'Female', 'Single', 30424)\n",
      "('ATQCUS2640', '35-45', 'Delhi NCR', 'Salaried IT Employees', 'Female', 'Married', 67450)\n"
     ]
    }
   ],
   "source": [
    "query = \"\"\" SELECT * FROM dim_customers; \"\"\"\n",
    "cursor.execute(query)\n",
    "\n",
    "# Fetch all results\n",
    "results = cursor.fetchall()\n",
    "\n",
    "# Geting column names from cursor.description\n",
    "column_names = [desc[0] for desc in cursor.description]\n",
    "\n",
    "print(\"Columns Names Are\",column_names)\n",
    "\n",
    "# printing the 10 rows\n",
    "for row in results[:10]:\n",
    "    print(row)"
   ]
  },
  {
   "cell_type": "markdown",
   "metadata": {},
   "source": [
    "<h1 style=\"font-family: 'Poppins', sans-serif; font-weight: 700; color: #1c1c1c; background: white; padding: 12px; border-radius: 10px; text-align: left; box-shadow: 0 4px 8px rgba(0, 0, 0, 0.5); letter-spacing: 1px; text-transform: capitalize; font-size: 1.2rem;\">\n",
    "<span style=\"color: #333333;\">1.5 Checking Total Number of Columns and Row</span>\n",
    "</h1> "
   ]
  },
  {
   "cell_type": "code",
   "execution_count": 7,
   "metadata": {},
   "outputs": [
    {
     "name": "stdout",
     "output_type": "stream",
     "text": [
      "Dim_customers Table:\n",
      "Total number of rows: 4000\n",
      "Total number of columns: 7\n"
     ]
    }
   ],
   "source": [
    "query_rows = \"\"\"\n",
    "SELECT COUNT(*) AS total_rows\n",
    "FROM dim_customers;\n",
    "\"\"\"\n",
    "cursor.execute(query_rows)\n",
    "row_count = cursor.fetchone()[0]  # Fetch the result\n",
    "\n",
    "# Print the results\n",
    "print(\"Dim_customers Table:\")\n",
    "print(\"Total number of rows:\", row_count)\n",
    "print(\"Total number of columns: 7\")"
   ]
  },
  {
   "cell_type": "markdown",
   "metadata": {},
   "source": [
    "<h1 style=\"font-family: 'Poppins', sans-serif; font-weight: 700; color: #1c1c1c; background: white; padding: 15px; border-radius: 10px; text-align: left; box-shadow: 0 4px 8px rgba(0, 0, 0, 0.5); letter-spacing: 1px; text-transform: capitalize; font-size: 1.5rem;\">\n",
    "<span style=\"color: #333333;\">2.First Doing Data Cleaning Before Any Analysis On The Data:</span>\n",
    "</h1> \n",
    "\n",
    "<h1 style=\"font-family: 'Poppins', sans-serif; font-weight: 700; color: #1c1c1c; background: white; padding: 12px; border-radius: 10px; text-align: left; box-shadow: 0 4px 8px rgba(0, 0, 0, 0.5); letter-spacing: 1px; text-transform: capitalize; font-size: 1.2rem;\">\n",
    "<span style=\"color: #333333;\">2.1 Checking For duplicates In Fact_Spends Table</span>\n",
    "</h1>"
   ]
  },
  {
   "cell_type": "code",
   "execution_count": 9,
   "metadata": {},
   "outputs": [
    {
     "name": "stdout",
     "output_type": "stream",
     "text": [
      "Duplicates based on Entire row:\n",
      "Didn't find any duplicates in the fact_spends table\n"
     ]
    }
   ],
   "source": [
    "# Quering to find duplicate rows based on all columns\n",
    "query_all_columns = \"\"\"\n",
    "SELECT customer_id, month, category, payment_type, spend\n",
    "FROM fact_spends \n",
    "GROUP BY customer_id, month, category, payment_type, spend\n",
    "HAVING COUNT(*) > 1;\n",
    "\"\"\"\n",
    "cursor.execute(query_all_columns)\n",
    "duplicates_all_columns = cursor.fetchall()\n",
    "\n",
    "print(\"Duplicates based on Entire row:\")\n",
    "if duplicates_all_columns:\n",
    "    for row in duplicates_all_columns:\n",
    "        print(row)\n",
    "else:\n",
    "    print(\"Didn't find any duplicates in the fact_spends table\")"
   ]
  },
  {
   "cell_type": "markdown",
   "metadata": {},
   "source": [
    "<h1 style=\"font-family: 'Poppins', sans-serif; font-weight: 700; color: #1c1c1c; background: white; padding: 12px; border-radius: 10px; text-align: left; box-shadow: 0 4px 8px rgba(0, 0, 0, 0.5); letter-spacing: 1px; text-transform: capitalize; font-size: 1.2rem;\">\n",
    "<span style=\"color: #333333;\">2.2 Checking For duplicates In dim_customers Table</span>\n",
    "</h1>"
   ]
  },
  {
   "cell_type": "code",
   "execution_count": 8,
   "metadata": {},
   "outputs": [
    {
     "name": "stdout",
     "output_type": "stream",
     "text": [
      "Duplicates based on Entire row:\n",
      "Didn't find any duplicates in the dim_customers table\n"
     ]
    }
   ],
   "source": [
    "query_all_columns = \"\"\"\n",
    "SELECT customer_id, age_group, city, occupation, gender, marital_status, avg_income\n",
    "FROM dim_customers\n",
    "GROUP BY customer_id, age_group, city, occupation, gender, marital_status, avg_income\n",
    "HAVING COUNT(*) > 1;\n",
    "\"\"\"\n",
    "cursor.execute(query_all_columns)\n",
    "duplicates_all_columns = cursor.fetchall()\n",
    "\n",
    "print(\"Duplicates based on Entire row:\")\n",
    "if duplicates_all_columns:\n",
    "    for row in duplicates_all_columns:\n",
    "        print(row)\n",
    "else:\n",
    "    print(\"Didn't find any duplicates in the dim_customers table\")"
   ]
  },
  {
   "cell_type": "markdown",
   "metadata": {},
   "source": [
    "<h1 style=\"font-family: 'Poppins', sans-serif; font-weight: 700; color: #1c1c1c; background: white; padding: 12px; border-radius: 10px; text-align: left; box-shadow: 0 4px 8px rgba(0, 0, 0, 0.5); letter-spacing: 1px; text-transform: capitalize; font-size: 1.2rem;\">\n",
    "<span style=\"color: #333333;\">2.3 Now,Checking For missing Values in both Tables</span>\n",
    "</h1>"
   ]
  },
  {
   "cell_type": "code",
   "execution_count": 28,
   "metadata": {},
   "outputs": [
    {
     "name": "stdout",
     "output_type": "stream",
     "text": [
      "Luckily, we didn't have any missing values in the facts_table.\n"
     ]
    }
   ],
   "source": [
    "query_missing_values = \"\"\"\n",
    "SELECT *\n",
    "FROM fact_spends\n",
    "WHERE customer_id IS NULL\n",
    "   OR month IS NULL\n",
    "   OR category IS NULL\n",
    "   OR payment_type IS NULL\n",
    "   OR spend IS NULL;\n",
    "\"\"\"\n",
    "\n",
    "cursor.execute(query_missing_values)\n",
    "rows_with_missing_values = cursor.fetchall()\n",
    "# Checking if there are any rows with missing values\n",
    "if rows_with_missing_values:\n",
    "    print(\"Rows with missing values:\")\n",
    "    for row in rows_with_missing_values:\n",
    "        print(row)\n",
    "else:\n",
    "    print(\"Luckily, we didn't have any missing values in the facts_table.\")\n",
    "\n"
   ]
  },
  {
   "cell_type": "code",
   "execution_count": 29,
   "metadata": {},
   "outputs": [
    {
     "name": "stdout",
     "output_type": "stream",
     "text": [
      "Luckily, we didn't have any missing values in the dim_customers_table.\n"
     ]
    }
   ],
   "source": [
    "query_missing_values = \"\"\"\n",
    "SELECT *\n",
    "FROM dim_customers\n",
    "WHERE customer_id is null \n",
    "or age_group is null \n",
    "or city is null \n",
    "or occupation is null\n",
    "or gender is null\n",
    "or marital_status is null\n",
    "or avg_income is null\n",
    "\"\"\"\n",
    "\n",
    "cursor.execute(query_missing_values)\n",
    "rows_with_missing_values = cursor.fetchall()\n",
    "\n",
    "# Checking if there are any rows with missing values\n",
    "if rows_with_missing_values:\n",
    "    print(\"Rows with missing values:\")\n",
    "    for row in rows_with_missing_values:\n",
    "        print(row)\n",
    "else:\n",
    "    print(\"Luckily, we didn't have any missing values in the dim_customers_table.\")"
   ]
  },
  {
   "cell_type": "markdown",
   "metadata": {},
   "source": [
    "## Observations\n",
    "---\n",
    "* We did not find any duplicates or missing values in the dataset. Everything seems to be in order now. We have checked for null values and duplicates, and performed the necessary data cleaning. We are ready to move on to the analysis phase. If we encounter any issues during the analysis, we will address them at that time.\n"
   ]
  },
  {
   "cell_type": "markdown",
   "metadata": {},
   "source": [
    "<h1 style=\"font-family: 'Poppins', sans-serif; font-weight: 700; color: #1c1c1c; background: white; padding: 15px; border-radius: 10px; text-align: left; box-shadow: 0 4px 8px rgba(0, 0, 0, 0.5); letter-spacing: 1px; text-transform: capitalize; font-size: 1.5rem;\">\n",
    "<span style=\"color: #333333;\">3.Exploratory Data Analysis(EDA):</span>\n",
    "</h1>\n",
    "\n",
    "\n"
   ]
  },
  {
   "cell_type": "markdown",
   "metadata": {},
   "source": [
    "<h1 style=\"font-family: 'Poppins', sans-serif; font-weight: 700; color: #1c1c1c; background: white; padding: 12px; border-radius: 10px; text-align: left; box-shadow: 0 4px 8px rgba(0, 0, 0, 0.5); letter-spacing: 1px; text-transform: capitalize; font-size: 1.2rem;\">\n",
    "<span style=\"color: #333333;\">3.1 Joining Both the table using sql join for better understanding of  the data</span>\n",
    "</h1>\n",
    "\n"
   ]
  },
  {
   "cell_type": "code",
   "execution_count": 36,
   "metadata": {},
   "outputs": [
    {
     "name": "stdout",
     "output_type": "stream",
     "text": [
      "['customer_id', 'age_group', 'city', 'occupation', 'gender', 'marital_status', 'avg_income', 'month', 'category', 'payment_type', 'spend']\n",
      "('ATQCUS0368', '25-34', 'Delhi NCR', 'Salaried Other Employees', 'Male', 'Married', 39893, 'October', 'Groceries', 'Credit Card', 1466)\n",
      "('ATQCUS0595', '25-34', 'Bengaluru', 'Government Employees', 'Male', 'Married', 52001, 'May', 'Health & Wellness', 'Credit Card', 387)\n",
      "('ATQCUS0667', '25-34', 'Chennai', 'Salaried Other Employees', 'Male', 'Married', 40243, 'October', 'Electronics', 'Credit Card', 1137)\n",
      "('ATQCUS0908', '35-45', 'Mumbai', 'Salaried IT Employees', 'Male', 'Married', 67776, 'September', 'Others', 'UPI', 380)\n",
      "('ATQCUS1279', '35-45', 'Bengaluru', 'Business Owners', 'Male', 'Married', 74899, 'August', 'Entertainment', 'Debit Card', 443)\n",
      "('ATQCUS0108', '21-24', 'Hyderabad', 'Salaried IT Employees', 'Male', 'Married', 45933, 'September', 'Groceries', 'Credit Card', 361)\n",
      "('ATQCUS1019', '35-45', 'Mumbai', 'Freelancers', 'Male', 'Married', 36428, 'August', 'Bills', 'Net Banking', 555)\n",
      "('ATQCUS1521', '35-45', 'Hyderabad', 'Salaried IT Employees', 'Male', 'Married', 64353, 'October', 'Groceries', 'Net Banking', 410)\n",
      "('ATQCUS2867', '35-45', 'Chennai', 'Freelancers', 'Female', 'Married', 36013, 'August', 'Health & Wellness', 'Net Banking', 463)\n",
      "('ATQCUS3551', '25-34', 'Bengaluru', 'Business Owners', 'Male', 'Single', 68334, 'August', 'Electronics', 'UPI', 1104)\n"
     ]
    }
   ],
   "source": [
    "query = \"\"\"\n",
    "SELECT\n",
    "    f.customer_id,\n",
    "    d.age_group,\n",
    "    d.city,\n",
    "    d.occupation,\n",
    "    d.gender,\n",
    "    d.marital_status,\n",
    "    d.avg_income,\n",
    "    f.month,\n",
    "    f.category,\n",
    "    f.payment_type,\n",
    "    f.spend\n",
    "FROM fact_spends f\n",
    "JOIN dim_customers d ON f.customer_id = d.customer_id;\n",
    "\"\"\"\n",
    "\n",
    "# Executing the SQL query\n",
    "cursor.execute(query)\n",
    "\n",
    "# Fetching the results\n",
    "merged_data = cursor.fetchall()\n",
    "\n",
    "# Fetching the column names\n",
    "column_names = [desc[0] for desc in cursor.description]\n",
    "\n",
    "# printing 10 rows\n",
    "print(column_names)\n",
    "for row in merged_data[:10]:\n",
    "    print(row)\n"
   ]
  },
  {
   "cell_type": "markdown",
   "metadata": {},
   "source": [
    "<h1 style=\"font-family: 'Poppins', sans-serif; font-weight: 700; color: #1c1c1c; background: white; padding: 12px; border-radius: 10px; text-align: left; box-shadow: 0 4px 8px rgba(0, 0, 0, 0.5); letter-spacing: 1px; text-transform: capitalize; font-size: 1.2rem;\">\n",
    "3.2 Descriptive Stats:<span style=\"color: #333333;\"></span>\n",
    "</h1>\n",
    "<h1 style=\"font-family: 'Poppins', sans-serif; font-weight: 700; color: #1c1c1c; background: white; padding: 10px; border-radius: 10px; text-align: left; box-shadow: 0 4px 8px rgba(0, 0, 0, 0.5); letter-spacing: 1px; text-transform: capitalize; font-size: 1rem;\">\n",
    "<span style=\"color: #333333;\">3.2.1 Finding out which age_groups spends the most money </span>\n",
    "</h1>\n"
   ]
  },
  {
   "cell_type": "code",
   "execution_count": 41,
   "metadata": {},
   "outputs": [
    {
     "name": "stdout",
     "output_type": "stream",
     "text": [
      "['age_group', 'avg_spend']\n",
      "Average Spending Per Age Group:\n",
      "('35-45', Decimal('693.32'))\n",
      "('25-34', Decimal('628.48'))\n",
      "('45+', Decimal('588.41'))\n",
      "('21-24', Decimal('459.10'))\n"
     ]
    }
   ],
   "source": [
    "query = \"\"\"\n",
    "SELECT age_group, round(AVG(spend),2) AS avg_spend\n",
    "FROM fact_spends f\n",
    "JOIN dim_customers d ON f.customer_id = d.customer_id\n",
    "GROUP BY age_group\n",
    "ORDER BY avg_spend DESC;\n",
    "\"\"\"\n",
    "\n",
    "cursor.execute(query)\n",
    "results = cursor.fetchall()\n",
    "\n",
    "# Fetch column names from cursor description\n",
    "column_names = [desc[0] for desc in cursor.description]\n",
    "print(column_names)\n",
    "\n",
    "# Print result rows\n",
    "print(\"Average Spending Per Age Group:\")\n",
    "for row in results:\n",
    "    print(row)\n"
   ]
  },
  {
   "cell_type": "markdown",
   "metadata": {},
   "source": [
    "- The analysis shows that the **35-45 age group** has the highest average spending compared to other age groups."
   ]
  },
  {
   "cell_type": "markdown",
   "metadata": {},
   "source": [
    "<h1 style=\"font-family: 'Poppins', sans-serif; font-weight: 700; color: #1c1c1c; background: white; padding: 10px; border-radius: 10px; text-align: left; box-shadow: 0 4px 8px rgba(0, 0, 0, 0.5); letter-spacing: 1px; text-transform: capitalize; font-size: 1rem;\">\n",
    "<span style=\"color: #333333;\">3.2.2 Analyzing spending patterns across different categories to determine which categories are most popular and profitable.</span>\n",
    "</h1>\n"
   ]
  },
  {
   "cell_type": "code",
   "execution_count": 11,
   "metadata": {},
   "outputs": [
    {
     "name": "stdout",
     "output_type": "stream",
     "text": [
      "['category', 'total_spend']\n",
      "Total spending on different categories\n",
      "('Bills', Decimal('104912768'))\n",
      "('Groceries', Decimal('86303761'))\n",
      "('Electronics', Decimal('79562220'))\n",
      "('Health & Wellness', Decimal('65599867'))\n",
      "('Travel', Decimal('59223324'))\n",
      "('Food', Decimal('44013470'))\n",
      "('Entertainment', Decimal('41289162'))\n",
      "('Apparel', Decimal('34036001'))\n",
      "('Others', Decimal('15957182'))\n"
     ]
    }
   ],
   "source": [
    "query = \"\"\"\n",
    "SELECT category, SUM(spend) AS total_spend\n",
    "FROM fact_spends\n",
    "GROUP BY category\n",
    "ORDER BY total_spend DESC;\n",
    "\n",
    "\"\"\"\n",
    "\n",
    "cursor.execute(query)\n",
    "results = cursor.fetchall()\n",
    "\n",
    "# Fetch column names from cursor description\n",
    "column_names = [desc[0] for desc in cursor.description]\n",
    "print(column_names)\n",
    "\n",
    "# Print result rows\n",
    "print(\"Total spending on different categories\")\n",
    "for row in results:\n",
    "    print(row)"
   ]
  },
  {
   "cell_type": "markdown",
   "metadata": {},
   "source": [
    "- The analysis shows that the people spend the most money on **Utility bills**."
   ]
  },
  {
   "cell_type": "markdown",
   "metadata": {},
   "source": [
    "<h1 style=\"font-family: 'Poppins', sans-serif; font-weight: 700; color: #1c1c1c; background: white; padding: 10px; border-radius: 10px; text-align: left; box-shadow: 0 4px 8px rgba(0, 0, 0, 0.5); letter-spacing: 1px; text-transform: capitalize; font-size: 1rem;\">\n",
    "<span style=\"color: #333333;\"> 3.2.3 Classifying age groups and income base on ages and income For better Analysis and readiblity</span>\n",
    "</h1>"
   ]
  },
  {
   "cell_type": "code",
   "execution_count": 28,
   "metadata": {},
   "outputs": [
    {
     "name": "stdout",
     "output_type": "stream",
     "text": [
      "Table updated successfully.\n"
     ]
    }
   ],
   "source": [
    "update_query = \"\"\"\n",
    "UPDATE dim_customers\n",
    "SET\n",
    "    age_category = CASE\n",
    "        WHEN age_group IN ('21-24') THEN 'Young'\n",
    "        WHEN age_group IN ('25-34') THEN 'Middle-aged'\n",
    "        WHEN age_group IN ('35-45') THEN 'Old'\n",
    "        WHEN age_group IN ('45+') THEN 'Very-old'\n",
    "        ELSE 'Unknown'\n",
    "    END,\n",
    "    income_category = CASE\n",
    "        WHEN avg_income < 40000 THEN 'Low Income'\n",
    "        WHEN avg_income BETWEEN 40000 AND 60000 THEN 'Medium Income'\n",
    "        WHEN avg_income > 60000 THEN 'High Income'\n",
    "        ELSE 'Unknown'\n",
    "    END;\n",
    "\"\"\"\n",
    "\n",
    "# Executing\n",
    "try:\n",
    "    cursor.execute(update_query)\n",
    "    print(\"Table updated successfully.\")\n",
    "except mysql.connector.Error as err:\n",
    "    print(f\"Error: {err}\")\n"
   ]
  },
  {
   "cell_type": "markdown",
   "metadata": {},
   "source": [
    "**Now Verifying**"
   ]
  },
  {
   "cell_type": "code",
   "execution_count": 29,
   "metadata": {},
   "outputs": [
    {
     "name": "stdout",
     "output_type": "stream",
     "text": [
      "('45+', 73523, 'Very-old', 'High Income')\n",
      "('25-34', 39922, 'Middle-aged', 'Low Income')\n",
      "('25-34', 37702, 'Middle-aged', 'Low Income')\n",
      "('25-34', 54090, 'Middle-aged', 'Medium Income')\n",
      "('21-24', 28376, 'Young', 'Low Income')\n",
      "('21-24', 46586, 'Young', 'Medium Income')\n",
      "('25-34', 34966, 'Middle-aged', 'Low Income')\n",
      "('25-34', 59078, 'Middle-aged', 'Medium Income')\n",
      "('21-24', 30424, 'Young', 'Low Income')\n",
      "('35-45', 67450, 'Old', 'High Income')\n"
     ]
    }
   ],
   "source": [
    "select_query = \"\"\"\n",
    "SELECT age_group, avg_income, age_category, income_category\n",
    "FROM dim_customers;\n",
    "\"\"\"\n",
    "\n",
    "try:\n",
    "    cursor.execute(select_query)\n",
    "    results = cursor.fetchall()\n",
    "    for row in results[:10]:  # Printing the first 10 rows\n",
    "        print(row)\n",
    "except mysql.connector.Error as err:\n",
    "    print(f\"Error: {err}\")"
   ]
  },
  {
   "cell_type": "markdown",
   "metadata": {},
   "source": [
    "<h1 style=\"font-family: 'Poppins', sans-serif; font-weight: 700; color: #1c1c1c; background: white; padding: 10px; border-radius: 10px; text-align: left; box-shadow: 0 4px 8px rgba(0, 0, 0, 0.5); letter-spacing: 1px; text-transform: capitalize; font-size: 1rem;\">\n",
    "<span style=\"color: #333333;\">3.2.4 Analyzing spending behavior across different months to identify seasonal trends and high-spending periods.</span>\n",
    "</h1>"
   ]
  },
  {
   "cell_type": "code",
   "execution_count": 15,
   "metadata": {},
   "outputs": [
    {
     "name": "stdout",
     "output_type": "stream",
     "text": [
      "['month', 'total_spend']\n",
      "Spending behaviour of people in different months\n",
      "('September', Decimal('115929577'))\n",
      "('August', Decimal('100859350'))\n",
      "('October', Decimal('86026137'))\n",
      "('July', Decimal('80624751'))\n",
      "('June', Decimal('79318104'))\n",
      "('May', Decimal('68139836'))\n"
     ]
    }
   ],
   "source": [
    "query = \"\"\"\n",
    "SELECT month, SUM(spend) AS total_spend\n",
    "FROM fact_spends\n",
    "GROUP BY month\n",
    "order by total_spend desc;\n",
    "\n",
    "\"\"\"\n",
    "\n",
    "cursor.execute(query)\n",
    "results = cursor.fetchall()\n",
    "\n",
    "# Fetch column names from cursor description\n",
    "column_names = [desc[0] for desc in cursor.description]\n",
    "print(column_names)\n",
    "\n",
    "# Print result rows\n",
    "print(\"Spending behaviour of people in different months\")\n",
    "for row in results:\n",
    "    print(row)\n"
   ]
  },
  {
   "cell_type": "markdown",
   "metadata": {},
   "source": [
    "- The analysis shows that the people spend the most money in **september**."
   ]
  },
  {
   "cell_type": "markdown",
   "metadata": {},
   "source": [
    "<h1 style=\"font-family: 'Poppins', sans-serif; font-weight: 700; color: #1c1c1c; background: white; padding: 10px; border-radius: 10px; text-align: left; box-shadow: 0 4px 8px rgba(0, 0, 0, 0.5); letter-spacing: 1px; text-transform: capitalize; font-size: 1rem;\">\n",
    "<span style=\"color: #333333;\"> 3.2.5 Analyze spending behavior based on gender to tailor card features or marketing campaigns.</span>\n",
    "</h1>"
   ]
  },
  {
   "cell_type": "code",
   "execution_count": 16,
   "metadata": {},
   "outputs": [
    {
     "name": "stdout",
     "output_type": "stream",
     "text": [
      "['gender', 'avg_spend']\n",
      "Comparing spending difference between male and female\n",
      "('Male', Decimal('636.6642'))\n",
      "('Female', Decimal('573.3736'))\n"
     ]
    }
   ],
   "source": [
    "query = \"\"\"\n",
    "SELECT gender, AVG(spend) AS avg_spend\n",
    "FROM fact_spends f\n",
    "JOIN dim_customers d ON f.customer_id = d.customer_id\n",
    "GROUP BY gender;\n",
    "\"\"\"\n",
    "\n",
    "cursor.execute(query)\n",
    "results = cursor.fetchall()\n",
    "\n",
    "# Fetching column names from cursor description\n",
    "column_names = [desc[0] for desc in cursor.description]\n",
    "print(column_names)\n",
    "\n",
    "# Printing result rows\n",
    "print(\"Comparing spending difference between male and female\")\n",
    "for row in results:\n",
    "    print(row)\n"
   ]
  },
  {
   "cell_type": "markdown",
   "metadata": {},
   "source": [
    "- The analysis showed that the  **males** spend the most money"
   ]
  },
  {
   "cell_type": "markdown",
   "metadata": {},
   "source": [
    "<h1 style=\"font-family: 'Poppins', sans-serif; font-weight: 700; color: #1c1c1c; background: white; padding: 10px; border-radius: 10px; text-align: left; box-shadow: 0 4px 8px rgba(0, 0, 0, 0.5); letter-spacing: 1px; text-transform: capitalize; font-size: 1rem;\">\n",
    "<span style=\"color: #333333;\">3.2.6 Analyze whether marital status influences spending habits.</span>\n",
    "</h1>"
   ]
  },
  {
   "cell_type": "code",
   "execution_count": 18,
   "metadata": {},
   "outputs": [
    {
     "name": "stdout",
     "output_type": "stream",
     "text": [
      "['marital_status', 'avg_spend']\n",
      "Determine whether single or married customers spend more\n",
      "('Married', Decimal('633.3699'))\n",
      "('Single', Decimal('545.8472'))\n"
     ]
    }
   ],
   "source": [
    "query = \"\"\"\n",
    "SELECT marital_status, AVG(spend) AS avg_spend\n",
    "FROM fact_spends f\n",
    "JOIN dim_customers d ON f.customer_id = d.customer_id\n",
    "GROUP BY marital_status;\n",
    "\n",
    "\n",
    "\"\"\"\n",
    "\n",
    "cursor.execute(query)\n",
    "results = cursor.fetchall()\n",
    "\n",
    "# Fetching column names from cursor description\n",
    "column_names = [desc[0] for desc in cursor.description]\n",
    "print(column_names)\n",
    "\n",
    "# Printing result rows\n",
    "print(\"Determine whether single or married customers spend more\")\n",
    "for row in results:\n",
    "    print(row)\n"
   ]
  },
  {
   "cell_type": "markdown",
   "metadata": {},
   "source": [
    "- The analysis showed that the **Married** people spend the most money which is quite obvious. "
   ]
  },
  {
   "cell_type": "markdown",
   "metadata": {},
   "source": [
    "<h1 style=\"font-family: 'Poppins', sans-serif; font-weight: 700; color: #1c1c1c; background: white; padding: 10px; border-radius: 10px; text-align: left; box-shadow: 0 4px 8px rgba(0, 0, 0, 0.5); letter-spacing: 1px; text-transform: capitalize; font-size: 1rem;\">\n",
    "<span style=\"color: #333333;\">3.2.7 Identify the professions associated with higher spending to create targeted credit card offers for specific job groups.</span>\n",
    "</h1>\n",
    "\n",
    "#### "
   ]
  },
  {
   "cell_type": "code",
   "execution_count": 19,
   "metadata": {},
   "outputs": [
    {
     "name": "stdout",
     "output_type": "stream",
     "text": [
      "['occupation', 'avg_spend']\n",
      "Spending behaviour related to professions \n",
      "('Salaried IT Employees', Decimal('871.9743'))\n",
      "('Salaried Other Employees', Decimal('453.6917'))\n",
      "('Government Employees', Decimal('419.1314'))\n",
      "('Business Owners', Decimal('646.7130'))\n",
      "('Freelancers', Decimal('446.0662'))\n"
     ]
    }
   ],
   "source": [
    "query = \"\"\"\n",
    "SELECT occupation, AVG(spend) AS avg_spend\n",
    "FROM fact_spends f\n",
    "JOIN dim_customers d ON f.customer_id = d.customer_id\n",
    "GROUP BY occupation;\n",
    "\n",
    "\"\"\"\n",
    "\n",
    "cursor.execute(query)\n",
    "results = cursor.fetchall()\n",
    "\n",
    "# fetching column names from cursor description\n",
    "column_names = [desc[0] for desc in cursor.description]\n",
    "print(column_names)\n",
    "\n",
    "# Printing result rows\n",
    "print(\"Spending behaviour related to professions \")\n",
    "for row in results:\n",
    "    print(row)\n"
   ]
  },
  {
   "cell_type": "markdown",
   "metadata": {},
   "source": [
    "  - The analysis showed that the **IT Employees**  spends the most money."
   ]
  },
  {
   "cell_type": "markdown",
   "metadata": {},
   "source": [
    "<h1 style=\"font-family: 'Poppins', sans-serif; font-weight: 700; color: #1c1c1c; background: white; padding: 10px; border-radius: 10px; text-align: left; box-shadow: 0 4px 8px rgba(0, 0, 0, 0.5); letter-spacing: 1px; text-transform: capitalize; font-size: 1rem;\">\n",
    "<span style=\"color: #333333;\">3.2.8 Analyzing how different payment types affect spending.</span>\n",
    "</h1>"
   ]
  },
  {
   "cell_type": "code",
   "execution_count": 25,
   "metadata": {},
   "outputs": [
    {
     "name": "stdout",
     "output_type": "stream",
     "text": [
      "['payment_type', 'total_spend']\n",
      "('Credit Card', Decimal('216308873'))\n",
      "('UPI', Decimal('140823223'))\n",
      "('Debit Card', Decimal('119557229'))\n",
      "('Net Banking', Decimal('54208430'))\n"
     ]
    }
   ],
   "source": [
    "query = \"\"\"\n",
    "SELECT\n",
    "    payment_type,\n",
    "    SUM(spend) AS total_spend\n",
    "FROM fact_spends f\n",
    "join dim_customers d on f.customer_id=d.customer_id\n",
    "GROUP BY\n",
    "    payment_type;\n",
    "\"\"\"\n",
    "\n",
    "cursor.execute(query)\n",
    "results = cursor.fetchall()\n",
    "\n",
    "# Fetch column names from cursor description\n",
    "column_names = [desc[0] for desc in cursor.description]\n",
    "print(column_names)\n",
    "for row in results:\n",
    "    print(row)"
   ]
  },
  {
   "cell_type": "markdown",
   "metadata": {},
   "source": [
    "- **Credit Card** varies the most in spending, reflecting its dominant role in the transactions recorded."
   ]
  },
  {
   "cell_type": "markdown",
   "metadata": {},
   "source": [
    "<h1 style=\"font-family: 'Poppins', sans-serif; font-weight: 700; color: #1c1c1c; background: white; padding: 10px; border-radius: 10px; text-align: left; box-shadow: 0 4px 8px rgba(0, 0, 0, 0.5); letter-spacing: 1px; text-transform: capitalize; font-size: 1rem;\">\n",
    "<span style=\"color: #333333;\">3.2.9 Analyzing which different age categories used the highest variety of payment cards.</span>\n",
    "</h1>\n"
   ]
  },
  {
   "cell_type": "code",
   "execution_count": 31,
   "metadata": {},
   "outputs": [
    {
     "name": "stdout",
     "output_type": "stream",
     "text": [
      "['age_category', 'payment_type', 'usage_count']\n",
      "('Middle-aged', 'Credit Card', 80892)\n",
      "('Middle-aged', 'UPI', 80892)\n",
      "('Middle-aged', 'Net Banking', 80892)\n",
      "('Middle-aged', 'Debit Card', 80892)\n",
      "('Old', 'Credit Card', 68742)\n",
      "('Old', 'Debit Card', 68742)\n",
      "('Old', 'UPI', 68742)\n",
      "('Old', 'Net Banking', 68742)\n",
      "('Very-old', 'UPI', 29052)\n",
      "('Very-old', 'Debit Card', 29052)\n",
      "('Very-old', 'Net Banking', 29052)\n",
      "('Very-old', 'Credit Card', 29052)\n",
      "('Young', 'Credit Card', 37314)\n",
      "('Young', 'Debit Card', 37314)\n",
      "('Young', 'UPI', 37314)\n",
      "('Young', 'Net Banking', 37314)\n"
     ]
    }
   ],
   "source": [
    "sql_query = \"\"\"  \n",
    "SELECT \n",
    "    age_category, \n",
    "    payment_type, \n",
    "    COUNT(*) AS usage_count\n",
    "FROM \n",
    "    fact_spends f\n",
    "join dim_customers d on f.customer_id=d.customer_id\n",
    "GROUP BY \n",
    "    age_category, \n",
    "    payment_type\n",
    "ORDER BY \n",
    "    age_category, \n",
    "    usage_count DESC;\n",
    "\n",
    "\n",
    "\"\"\"\n",
    "\n",
    "# Execute the SQL query\n",
    "cursor.execute(sql_query)\n",
    "\n",
    "# Fetch all results\n",
    "results = cursor.fetchall()\n",
    "\n",
    "# Print column names\n",
    "column_names = [desc[0] for desc in cursor.description]\n",
    "print(column_names)\n",
    "\n",
    "# Print the results\n",
    "for row in results:\n",
    "    print(row)"
   ]
  },
  {
   "cell_type": "markdown",
   "metadata": {},
   "source": [
    "* The analysis showed that **middle-aged** people used the highest variety of payment cards."
   ]
  },
  {
   "cell_type": "markdown",
   "metadata": {},
   "source": [
    "<h1 style=\"font-family: 'Poppins', sans-serif; font-weight: 700; color: #1c1c1c; background: white; padding: 10px; border-radius: 10px; text-align: left; box-shadow: 0 4px 8px rgba(0, 0, 0, 0.5); letter-spacing: 1px; text-transform: capitalize; font-size: 1rem;\">\n",
    "<span style=\"color: #333333;\">3.2.10 Analyzing which different occupation uses the cards  the most.</span>\n",
    "</h1>\n"
   ]
  },
  {
   "cell_type": "code",
   "execution_count": 33,
   "metadata": {},
   "outputs": [
    {
     "name": "stdout",
     "output_type": "stream",
     "text": [
      "['occupation', 'payment_type', 'usage_count']\n",
      "('Salaried IT Employees', 'Credit Card', 69876)\n",
      "('Salaried IT Employees', 'Debit Card', 69876)\n",
      "('Salaried IT Employees', 'UPI', 69876)\n",
      "('Salaried IT Employees', 'Net Banking', 69876)\n",
      "('Salaried Other Employees', 'Credit Card', 48222)\n",
      "('Salaried Other Employees', 'UPI', 48222)\n",
      "('Salaried Other Employees', 'Debit Card', 48222)\n",
      "('Salaried Other Employees', 'Net Banking', 48222)\n",
      "('Freelancers', 'UPI', 42336)\n",
      "('Freelancers', 'Net Banking', 42336)\n",
      "('Freelancers', 'Credit Card', 42336)\n",
      "('Freelancers', 'Debit Card', 42336)\n",
      "('Business Owners', 'UPI', 34020)\n",
      "('Business Owners', 'Debit Card', 34020)\n",
      "('Business Owners', 'Credit Card', 34020)\n",
      "('Business Owners', 'Net Banking', 34020)\n",
      "('Government Employees', 'Credit Card', 21546)\n",
      "('Government Employees', 'UPI', 21546)\n",
      "('Government Employees', 'Net Banking', 21546)\n",
      "('Government Employees', 'Debit Card', 21546)\n"
     ]
    }
   ],
   "source": [
    "sql_query = \"\"\"  \n",
    "SELECT \n",
    "    occupation, \n",
    "    payment_type, \n",
    "    COUNT(*) AS usage_count\n",
    "FROM \n",
    "    fact_spends f\n",
    "join dim_customers d on f.customer_id=d.customer_id\n",
    "GROUP BY \n",
    "    occupation, \n",
    "    payment_type\n",
    "ORDER BY  \n",
    "    usage_count DESC;\n",
    "\n",
    "\n",
    "\"\"\"\n",
    "\n",
    "# Executing the SQL query\n",
    "cursor.execute(sql_query)\n",
    "\n",
    "# Fetching all results\n",
    "results = cursor.fetchall()\n",
    "\n",
    "# Printing column names\n",
    "column_names = [desc[0] for desc in cursor.description]\n",
    "print(column_names)\n",
    "\n",
    "# Printing the results\n",
    "for row in results:\n",
    "    print(row)"
   ]
  },
  {
   "cell_type": "markdown",
   "metadata": {},
   "source": [
    "- The analysis showed that **Salaried IT Employees** people used the highest variety of payment cards."
   ]
  },
  {
   "cell_type": "markdown",
   "metadata": {},
   "source": [
    "<h2 style=\"color: #D35400; font-family: Arial, sans-serif;\">Let's move on to <span style=\"font-weight: bold; color: #16A085;\">Tableau</span> for a more in-depth analysis.</h2>\n",
    "<p style=\"font-size: 18px; color: #2C3E50; font-family: 'Georgia', serif;\">\n",
    "Tableau provides advanced visualizations and allows us to explore the data more effectively. Stay tuned for insights!\n",
    "</p>\n",
    "\n",
    "[Click here for the Tableau Dashboard](https://public.tableau.com/app/profile/maaz.umar/viz/MitronBankAnalysis_17266593076560/05_credit_card_dashboard)\n",
    "<hr style=\"border-top: 2px solid #16A085;\">\n",
    "\n",
    "\n"
   ]
  }
 ],
 "metadata": {
  "kernelspec": {
   "display_name": "TF_GPU",
   "language": "python",
   "name": "python3"
  },
  "language_info": {
   "codemirror_mode": {
    "name": "ipython",
    "version": 3
   },
   "file_extension": ".py",
   "mimetype": "text/x-python",
   "name": "python",
   "nbconvert_exporter": "python",
   "pygments_lexer": "ipython3",
   "version": "3.9.19"
  }
 },
 "nbformat": 4,
 "nbformat_minor": 2
}
